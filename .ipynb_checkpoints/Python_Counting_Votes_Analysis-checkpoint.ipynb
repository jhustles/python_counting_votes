{
 "cells": [
  {
   "cell_type": "markdown",
   "metadata": {},
   "source": [
    "# Counting Election Votes Using Python"
   ]
  },
  {
   "cell_type": "code",
   "execution_count": 1,
   "metadata": {},
   "outputs": [],
   "source": [
    "# Import Dependencies\n",
    "import os\n",
    "import csv"
   ]
  },
  {
   "cell_type": "code",
   "execution_count": 2,
   "metadata": {},
   "outputs": [],
   "source": [
    "# Set the File Path\n",
    "filepath = os.path.join(\".\",\"resources\",\"election_data.csv\")\n",
    "output_file = os.path.join(\".\", \"votes.txt\")"
   ]
  },
  {
   "cell_type": "code",
   "execution_count": 3,
   "metadata": {},
   "outputs": [
    {
     "name": "stdout",
     "output_type": "stream",
     "text": [
      "['Khan', 2218231]\n"
     ]
    }
   ],
   "source": [
    "# Vote Counting Program:\n",
    "\"\"\"\n",
    "Open \"election_data.csv\" file, read it, and inform Python\n",
    "there is a header and need to skip\n",
    "\"\"\"\n",
    "with open (filepath, newline=\"\") as csvfile:\n",
    "    csvreader= csv.reader(csvfile, delimiter=\",\")\n",
    "    header = next(csvreader)\n",
    "    \n",
    "    # create buckets\n",
    "    votes_list = []\n",
    "    votes_dict = {}\n",
    "    \n",
    "    # Loop 1 - Collect all votes of candidates name in a long list\n",
    "    for row in csvreader:\n",
    "        votes_list.append(row[2])\n",
    "    total_votes = len(votes_list)\n",
    "    \n",
    "    # Loop 2 - for each name in the votes list, if the candidate doesn't exist in the dictionary, create one for\n",
    "    # that person and set to zero, and add 1 to initialize a counter. If the person does exist, then increment by 1.\n",
    "    for candidate in votes_list:\n",
    "        if candidate not in votes_dict:\n",
    "            votes_dict[candidate] = 0\n",
    "            votes_dict[candidate] = votes_dict[candidate] + 1\n",
    "        else:\n",
    "            votes_dict[candidate] = votes_dict[candidate] + 1\n",
    "    #print(votes_dict)\n",
    "    \n",
    "    # Loop 3: Find the winner by looping thru the dictionary for the highest value\n",
    "    \n",
    "    winner = [\"\", 0]\n",
    "    for k,v in votes_dict.items():\n",
    "        #print(k , v)\n",
    "        if v > winner[1]:\n",
    "            winner[1] = v\n",
    "            winner[0] = k\n",
    "            \n",
    "    print(winner)\n",
    "    \n",
    "    # Calculations of Candidate Percentages\n",
    "    khan = votes_dict[\"Khan\"] / total_votes\n",
    "    Correy = votes_dict[\"Correy\"] / total_votes\n",
    "    Li = votes_dict[\"Li\"] / total_votes\n",
    "    OTooley = votes_dict[\"O'Tooley\"] / total_votes\n",
    "    \n",
    "    output = (\n",
    "    f\"Election Results:\\n\"\n",
    "    f\"--------------------------------------------\\n\"\n",
    "    f\"Total Votes From Elections: {total_votes}\\n\"\n",
    "    f\"--------------------------------------------\\n\"\n",
    "    f\"Khan: {khan}\\n\"\n",
    "    f\"Correy: {Correy}\\n\"\n",
    "    f\"Li: {Li}\\n\"\n",
    "    f\"O'Tooley: {OTooley}\\n\"\n",
    "    f\"--------------------------------------------\\n\"\n",
    "    f\"Winner: {winner}\\n\"\n",
    "    f\"--------------------------------------------\\n\"\n",
    "    )\n",
    "    \n",
    "with open (\"election_results.txt\", 'w') as txt_file:\n",
    "    txt_file.write(output)"
   ]
  }
 ],
 "metadata": {
  "kernelspec": {
   "display_name": "Python 3",
   "language": "python",
   "name": "python3"
  },
  "language_info": {
   "codemirror_mode": {
    "name": "ipython",
    "version": 3
   },
   "file_extension": ".py",
   "mimetype": "text/x-python",
   "name": "python",
   "nbconvert_exporter": "python",
   "pygments_lexer": "ipython3",
   "version": "3.7.1"
  }
 },
 "nbformat": 4,
 "nbformat_minor": 2
}

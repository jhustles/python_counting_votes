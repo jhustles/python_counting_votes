{
 "cells": [
  {
   "cell_type": "markdown",
   "metadata": {},
   "source": [
    "# Counting Election Votes\n"
   ]
  },
  {
   "cell_type": "code",
   "execution_count": 2,
   "metadata": {},
   "outputs": [],
   "source": [
    "# Import Dependencies\n",
    "import os\n",
    "import csv"
   ]
  },
  {
   "cell_type": "code",
   "execution_count": 3,
   "metadata": {},
   "outputs": [],
   "source": [
    "# Set the File Path\n",
    "filepath = os.path.join(\".\",\"resources\",\"election_data_test.csv\")\n",
    "output_file = os.path.join(\".\", \"votes.txt\")"
   ]
  },
  {
   "cell_type": "markdown",
   "metadata": {},
   "source": [
    "# Draft 1"
   ]
  },
  {
   "cell_type": "code",
   "execution_count": null,
   "metadata": {},
   "outputs": [],
   "source": [
    "with open(filepath, newline='') as csvfile:\n",
    "    csvreader = csv.reader(csvfile, delimiter=',')\n",
    "    \n",
    "    header = next(csvreader)\n",
    "    #print(header)\n",
    "    \n",
    "    total_votes = []\n",
    "    \n",
    "    for candidate_name in csvreader:\n",
    "        total_votes.append(candidate_name[2])\n",
    "        print(candidate_name[2])\n",
    "    \n",
    "    \n",
    "    votes_dict = {candidate:total_votes.count(candidate) for candidate in total_votes}\n",
    "\n",
    "output=(\n",
    "    print(\"Election Results\")\n",
    "    print(f\"Total Votes: {len(candidate_votes}\")\n",
    "    print(votes_dict)\n",
    "    print(f\"{votes_dict['Khan']/len(candidate_votes)}% ({votes_dict['Khan']})\n",
    "    print(f\"{votes_dict['Correy']/len(candidate_votes)}% ({votes_dict['Correy']})\n",
    "    print(f\"{votes_dict['Li']/len(candidate_votes)}% ({votes_dict['Li']}))\n",
    "          \n",
    "with open(output_file, 'w') as txt_file:\n",
    "    txt_file.write(output)"
   ]
  },
  {
   "cell_type": "markdown",
   "metadata": {},
   "source": [
    "# Draft 2"
   ]
  },
  {
   "cell_type": "code",
   "execution_count": null,
   "metadata": {},
   "outputs": [],
   "source": [
    "# Short List Test - DRAFT\n",
    "import os\n",
    "import csv\n",
    "\n",
    "\n",
    "filepath2 = os.path.join(\".\",\"election_data_test.csv\")\n",
    "output_file = os.path.join(\".\", \"votes_test2.txt\")\n",
    "\n",
    "with open(filepath2, newline='') as csvfile2:\n",
    "    csvreader2 = csv.reader(csvfile2, delimiter=',')\n",
    "    \n",
    "    header2 = next(csvreader2)\n",
    "    #print(header2)\n",
    "    \n",
    "    votes = []\n",
    "    \n",
    "    for candidate_name in csvreader2:\n",
    "        votes.append(candidate_name[2])\n",
    "    \n",
    "    #print(votes)\n",
    "    votes_dict = {candidate:votes.count(candidate) for candidate in votes}\n",
    "\n",
    "    \n",
    "#############################\n",
    "# WRONG PLACEMENT #\n",
    "#output = (print(votes_dict))\n",
    "\n",
    "otooley = \"O'Tooley\"\n",
    "\n",
    "\n",
    "print(\"Election Results\")\n",
    "print(f\"Total Votes: {len(votes)}\")\n",
    "#print(votes_dict)\n",
    "print(f\"Khan: {round((votes_dict['Khan']/len(votes))*100, 2)}% ({votes_dict['Khan']}) \")\n",
    "print(f\"Correy: {round((votes_dict['Correy']/len(votes))*100, 2)}% ({votes_dict['Correy']}) \")\n",
    "print(f\"Li: {round((votes_dict['Li']/len(votes))*100, 2)}% ({votes_dict['Li']}) \")\n",
    "print(f\"O'Tooley: {round((votes_dict[otooley]/len(votes))*100, 2)}% ({votes_dict[otooley]})\" )\n",
    "\n",
    "      \n",
    "      \n",
    "########################################################\n",
    "      \n",
    "maximum_vote = 0\n",
    "winner_name = []\n",
    "      \n",
    "for key, value in votes_dict.items():\n",
    "    if value > maximum_vote:\n",
    "      maximum_vote = value\n",
    "      winner_name.append(key)\n",
    "\n",
    "#print(winner_name[0])\n",
    "#print(maximum_vote)\n",
    "print(f\"Winner: {winner_name[0]}\")\n",
    "\n",
    "\n",
    "#with open(output_file, 'w') as txt_file:\n",
    "#    txt_file.write(output)"
   ]
  },
  {
   "cell_type": "markdown",
   "metadata": {},
   "source": [
    "# FINAL"
   ]
  },
  {
   "cell_type": "code",
   "execution_count": null,
   "metadata": {},
   "outputs": [],
   "source": [
    "# JG's ANSWER!!! - FINAL FINAL FINFAL\n",
    "import os\n",
    "import csv\n",
    "\n",
    "\n",
    "#filepath2 = os.path.join(\".\",\"election_data.csv\")\n",
    "filepath2 = os.path.join(\".\",\"election_data_test.csv\")\n",
    "output_file = os.path.join(\".\", \"pypoll_votes_final.txt\")\n",
    "\n",
    "with open(filepath2, newline='') as csvfile2:\n",
    "    csvreader2 = csv.reader(csvfile2, delimiter=',')\n",
    "    \n",
    "    header2 = next(csvreader2)\n",
    "    #print(header2)\n",
    "    \n",
    "    votes = []\n",
    "    \n",
    "    for candidate_name in csvreader2:\n",
    "        votes.append(candidate_name[2])\n",
    "    \n",
    "    #print(votes)\n",
    "    votes_dict = {candidate:votes.count(candidate) for candidate in votes}\n",
    "print(\"Done running\")\n",
    "#output = (print(votes_dict))\n",
    "\n",
    "maximum_vote = 0\n",
    "winner_name = []\n",
    "      \n",
    "for key, value in votes_dict.items():\n",
    "    if value > maximum_vote:\n",
    "      maximum_vote = value\n",
    "      winner_name.append(key)\n",
    "\n",
    "#print(winner_name[0])\n",
    "#print(maximum_vote)\n",
    "#print(f\"Winner: {winner_name[0]}\")\n",
    "\n",
    "print(votes_dict)\n",
    "\n",
    "otooley = \"O'Tooley\"\n",
    "\n",
    "output = (\n",
    "    f\"Election Results\\n\"\n",
    "    f\"Total Votes: {len(votes)}\\n\"\n",
    "    f\"Khan: {round((votes_dict['Khan']/len(votes))*100, 2)}% ({votes_dict['Khan']})\\n\"\n",
    "    f\"Correy: {round((votes_dict['Correy']/len(votes))*100, 2)}% ({votes_dict['Correy']})\\n\"\n",
    "    f\"Li: {round((votes_dict['Li']/len(votes))*100, 2)}% ({votes_dict['Li']})\\n\"\n",
    "    f\"O'Tooley: {round((votes_dict[otooley]/len(votes))*100, 2)}% ({votes_dict[otooley]})\\n\"\n",
    "    f\"Winner: {winner_name[0]}\\n\"\n",
    "     )\n",
    "\n",
    "\n",
    "\n",
    "with open(output_file, 'w') as txt_file:\n",
    "    txt_file.write(output)\n",
    "\n",
    "print(\"Execution Completed\")"
   ]
  },
  {
   "cell_type": "markdown",
   "metadata": {},
   "source": [
    "# Answer 2: using 3 loops"
   ]
  },
  {
   "cell_type": "code",
   "execution_count": 5,
   "metadata": {},
   "outputs": [
    {
     "name": "stdout",
     "output_type": "stream",
     "text": [
      "{'Khan': 323, 'Correy': 113, 'Li': 55, \"O'Tooley\": 9}\n",
      "['Khan', 323]\n"
     ]
    }
   ],
   "source": [
    "import os\n",
    "import csv\n",
    "\n",
    "filepath = os.path.join('.', \"election_data_test.csv\")\n",
    "\n",
    "with open(filepath, newline=\"\") as csvfile3:\n",
    "    csvreader3 = csv.reader(csvfile3, delimiter=',')\n",
    "    \n",
    "    # print to see each row\n",
    "    #for row in csvreader3:\n",
    "        #print(row)\n",
    "        \n",
    "    header3 = next(csvreader3)\n",
    "    \n",
    "    votes = []\n",
    "    \n",
    "    # segregrate the votes into a seperate list\n",
    "    for vote in csvreader3:\n",
    "        votes.append(vote[2])\n",
    "    \n",
    "    #print(votes)\n",
    "    \n",
    "    vote_dict2 = {}\n",
    "    \n",
    "    for candidate in votes:\n",
    "        if candidate not in vote_dict2:\n",
    "            vote_dict2[candidate] = 0\n",
    "            #vote_dict2[candidate] += 1\n",
    "        if candidate in vote_dict2:\n",
    "            vote_dict2[candidate] += 1\n",
    "    print(vote_dict2)\n",
    "    \n",
    "    winner = [\"\", 0]\n",
    "    for key, value in vote_dict2.items():\n",
    "        #print(key, value)\n",
    "        if value > winner[1]:\n",
    "            winner[1] = value\n",
    "            winner[0] = key\n",
    "    print(winner)\n",
    "    \n",
    "    "
   ]
  },
  {
   "cell_type": "code",
   "execution_count": 2,
   "metadata": {},
   "outputs": [
    {
     "data": {
      "text/plain": [
       "504"
      ]
     },
     "execution_count": 2,
     "metadata": {},
     "output_type": "execute_result"
    }
   ],
   "source": [
    "324 + 114 + 56 + 10"
   ]
  },
  {
   "cell_type": "markdown",
   "metadata": {},
   "source": [
    "# Play Cell for teaching"
   ]
  },
  {
   "cell_type": "code",
   "execution_count": null,
   "metadata": {},
   "outputs": [],
   "source": [
    "#     votes = []\n",
    "    \n",
    "#     for candidate_name in csvreader2:\n",
    "#         votes.append(candidate_name[2])\n",
    "\n",
    "import os\n",
    "import csv\n",
    "\n",
    "\n",
    "#filepath2 = os.path.join(\".\",\"election_data.csv\")\n",
    "filepath2 = os.path.join(\".\",\"election_data_test.csv\")\n",
    "output_file = os.path.join(\".\", \"pypoll_votes_final.txt\")\n",
    "\n",
    "with open(filepath2, newline='') as csvfile2:\n",
    "    csvreader2 = csv.reader(csvfile2, delimiter=',')\n",
    "    \n",
    "    header2 = next(csvreader2)\n",
    "    #print(header2)\n",
    "    \n",
    "    \n",
    "    votes2 = [candidate_name[2] for candidate_name in csvreader2]\n",
    "        "
   ]
  },
  {
   "cell_type": "code",
   "execution_count": null,
   "metadata": {},
   "outputs": [],
   "source": [
    "print(votes2)"
   ]
  },
  {
   "cell_type": "code",
   "execution_count": null,
   "metadata": {},
   "outputs": [],
   "source": [
    "otooley = \"O'Tooley\"\n",
    "print(otooley)"
   ]
  },
  {
   "cell_type": "code",
   "execution_count": null,
   "metadata": {},
   "outputs": [],
   "source": [
    "# Example pulled from Stackoverflow\n",
    "\n",
    "# votes = ['apple','red','apple','red','red','pear']\n",
    "# d = {candidate:votes.count(candidate) for candidate in votes}\n",
    "# print(d)"
   ]
  },
  {
   "cell_type": "code",
   "execution_count": null,
   "metadata": {},
   "outputs": [],
   "source": []
  },
  {
   "cell_type": "code",
   "execution_count": null,
   "metadata": {},
   "outputs": [],
   "source": []
  },
  {
   "cell_type": "code",
   "execution_count": null,
   "metadata": {},
   "outputs": [],
   "source": []
  },
  {
   "cell_type": "code",
   "execution_count": null,
   "metadata": {},
   "outputs": [],
   "source": []
  },
  {
   "cell_type": "code",
   "execution_count": null,
   "metadata": {},
   "outputs": [],
   "source": []
  },
  {
   "cell_type": "code",
   "execution_count": null,
   "metadata": {},
   "outputs": [],
   "source": [
    "# -*- coding: UTF-8 -*-\n",
    "\"\"\"PyPoll Homework Solution.\"\"\"\n",
    "\n",
    "# Incorporated the csv module\n",
    "import csv\n",
    "import os\n",
    "\n",
    "# Files to load and output (Remember to change these)\n",
    "file_to_load = os.path.join(\"election_data.csv\")\n",
    "#file_to_output = os.path.join(\"analysis\", \"election_analysis.txt\")\n",
    "\n",
    "# Total Vote Counter\n",
    "total_votes = 0\n",
    "\n",
    "# Candidate Options and Vote Counters\n",
    "candidate_options = []\n",
    "candidate_votes = {}\n",
    "\n",
    "# Winning Candidate and Winning Count Tracker\n",
    "winning_candidate = \"\"\n",
    "winning_count = 0\n",
    "\n",
    "# Read the csv and convert it into a list of dictionaries\n",
    "with open(file_to_load) as election_data:\n",
    "    reader = csv.reader(election_data)\n",
    "\n",
    "    # Read the header\n",
    "    header = next(reader)\n",
    "\n",
    "    # For each row...\n",
    "    for row in reader:\n",
    "\n",
    "        # Run the loader animation\n",
    "        #print(\". \", end=\"\"),\n",
    "\n",
    "        # Add to the total vote count\n",
    "        total_votes = total_votes + 1\n",
    "\n",
    "        # Extract the candidate name from each row\n",
    "        candidate_name = row[2]\n",
    "\n",
    "        # If the candidate does not match any existing candidate...\n",
    "        # (In a way, our loop is \"discovering\" candidates as it goes)\n",
    "        if candidate_name not in candidate_options:\n",
    "\n",
    "            # Add it to the list of candidates in the running\n",
    "            candidate_options.append(candidate_name)\n",
    "\n",
    "            # And begin tracking that candidate's voter count\n",
    "            candidate_votes[candidate_name] = 0\n",
    "\n",
    "        # Then add a vote to that candidate's count\n",
    "        candidate_votes[candidate_name] = candidate_votes[candidate_name] + 1\n",
    "\n",
    "# Print the results and export the data to our text file\n",
    "with open(file_to_output, \"w\") as txt_file:\n",
    "\n",
    "    # Print the final vote count (to terminal)\n",
    "    election_results = (\n",
    "        f\"\\n\\nElection Results\\n\"\n",
    "        f\"-------------------------\\n\"\n",
    "        f\"Total Votes: {total_votes}\\n\"\n",
    "        f\"-------------------------\\n\")\n",
    "    print(election_results, end=\"\")\n",
    "\n",
    "    # Save the final vote count to the text file\n",
    "    txt_file.write(election_results)\n",
    "\n",
    "    # Determine the winner by looping through the counts\n",
    "    for candidate in candidate_votes:\n",
    "\n",
    "        # Retrieve vote count and percentage\n",
    "        votes = candidate_votes.get(candidate)\n",
    "        vote_percentage = float(votes) / float(total_votes) * 100\n",
    "\n",
    "        # Determine winning vote count and candidate\n",
    "        if (votes > winning_count):\n",
    "            winning_count = votes\n",
    "            winning_candidate = candidate\n",
    "\n",
    "        # Print each candidate's voter count and percentage (to terminal)\n",
    "        voter_output = f\"{candidate}: {vote_percentage:.3f}% ({votes})\\n\"\n",
    "        print(voter_output, end=\"\")\n",
    "\n",
    "        # Save each candidate's voter count and percentage to text file\n",
    "        txt_file.write(voter_output)\n",
    "\n",
    "    # Print the winning candidate (to terminal)\n",
    "    winning_candidate_summary = (\n",
    "        f\"-------------------------\\n\"\n",
    "        f\"Winner: {winning_candidate}\\n\"\n",
    "        f\"-------------------------\\n\")\n",
    "    print(winning_candidate_summary)\n",
    "\n",
    "    # Save the winning candidate's name to the text file\n",
    "    txt_file.write(winning_candidate_summary)"
   ]
  },
  {
   "cell_type": "code",
   "execution_count": null,
   "metadata": {},
   "outputs": [],
   "source": []
  },
  {
   "cell_type": "code",
   "execution_count": null,
   "metadata": {},
   "outputs": [],
   "source": []
  }
 ],
 "metadata": {
  "kernelspec": {
   "display_name": "Python 3",
   "language": "python",
   "name": "python3"
  },
  "language_info": {
   "codemirror_mode": {
    "name": "ipython",
    "version": 3
   },
   "file_extension": ".py",
   "mimetype": "text/x-python",
   "name": "python",
   "nbconvert_exporter": "python",
   "pygments_lexer": "ipython3",
   "version": "3.7.1"
  }
 },
 "nbformat": 4,
 "nbformat_minor": 2
}
